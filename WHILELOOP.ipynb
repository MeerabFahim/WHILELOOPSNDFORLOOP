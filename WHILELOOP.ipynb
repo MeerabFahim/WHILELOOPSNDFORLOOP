{
 "cells": [
  {
   "cell_type": "code",
   "execution_count": null,
   "id": "b4b36a91-3ae1-47c7-9c7c-7c8c4de48f99",
   "metadata": {},
   "outputs": [],
   "source": [
    "# Program to count from 1 to 10 using a while loop\n",
    "i = 1\n",
    "while i <= 10:\n",
    "    print(i)\n",
    "    i += 1\n"
   ]
  },
  {
   "cell_type": "code",
   "execution_count": null,
   "id": "5a5b6fdd-3e5a-442d-9714-5f5bd7f1f46a",
   "metadata": {},
   "outputs": [],
   "source": [
    "# Program to print all even numbers from 1 to 20\n",
    "i = 1\n",
    "while i <= 20:\n",
    "    if i % 2 == 0:\n",
    "        print(i)\n",
    "    i += 1\n"
   ]
  },
  {
   "cell_type": "code",
   "execution_count": null,
   "id": "78cb42e0-f7b7-4d10-bf5c-85d9d2b89700",
   "metadata": {},
   "outputs": [],
   "source": [
    "# Program to calculate the sum of the first 10 natural numbers\n",
    "i = 1\n",
    "total = 0\n",
    "while i <= 10:\n",
    "    total += i\n",
    "    i += 1\n",
    "print(\"Sum of the first 10 natural numbers:\", total)\n"
   ]
  },
  {
   "cell_type": "code",
   "execution_count": null,
   "id": "7589cd07-3181-4327-8d1a-875ea5195b8c",
   "metadata": {},
   "outputs": [],
   "source": [
    "# Program to keep asking for numbers until a negative number is entered\n",
    "total = 0\n",
    "while True:\n",
    "    num = int(input(\"Enter a number (negative to stop): \"))\n",
    "    if num < 0:\n",
    "        break\n",
    "    total += num\n",
    "print(\"Total sum:\", total)\n"
   ]
  },
  {
   "cell_type": "code",
   "execution_count": null,
   "id": "5d125c38-752d-432e-965e-0091fc9de836",
   "metadata": {},
   "outputs": [],
   "source": [
    "# Number guessing game between 1 and 100\n",
    "import random\n",
    "target_number = random.randint(1, 100)\n",
    "guess = None\n",
    "\n",
    "while guess != target_number:\n",
    "    guess = int(input(\"Guess the number (between 1 and 100): \"))\n",
    "    if guess < target_number:\n",
    "        print(\"Too low!\")\n",
    "    elif guess > target_number:\n",
    "        print(\"Too high!\")\n",
    "    else:\n",
    "        print(\"Congratulations! You guessed it.\")\n"
   ]
  },
  {
   "cell_type": "code",
   "execution_count": null,
   "id": "aeda6041-7f46-4979-8bec-003a77e33d82",
   "metadata": {},
   "outputs": [],
   "source": [
    "# Program to calculate the factorial of a given positive integer\n",
    "num = int(input(\"Enter a positive integer: \"))\n",
    "factorial = 1\n",
    "i = 1\n",
    "\n",
    "while i <= num:\n",
    "    factorial *= i\n",
    "    i += 1\n",
    "print(f\"Factorial of {num} is {factorial}\")\n"
   ]
  },
  {
   "cell_type": "code",
   "execution_count": null,
   "id": "d2dd62d4-8f0e-4dfd-a0c1-1a640cf5b8f5",
   "metadata": {},
   "outputs": [],
   "source": [
    "# Program to calculate the average of numbers entered by the user\n",
    "count = 0\n",
    "total = 0.0\n",
    "\n",
    "while True:\n",
    "    value = input(\"Enter a number (or type 'done' to finish): \")\n",
    "    if value.lower() == 'done':\n",
    "        break\n",
    "    total += float(value)\n",
    "    count += 1\n",
    "\n",
    "if count > 0:\n",
    "    average = total / count\n",
    "    print(\"Average of the entered numbers:\", average)\n",
    "else:\n",
    "    print(\"No numbers were entered.\")\n"
   ]
  },
  {
   "cell_type": "code",
   "execution_count": null,
   "id": "f00fb501-f39a-4d58-baef-5dd796ec9383",
   "metadata": {},
   "outputs": [],
   "source": [
    "# Program to print the Fibonacci sequence up to a specified number n\n",
    "n = int(input(\"Enter a positive integer: \"))\n",
    "a, b = 0, 1\n",
    "\n",
    "while a <= n:\n",
    "    print(a, end=\" \")\n",
    "    a, b = b, a + b\n",
    "print()\n"
   ]
  }
 ],
 "metadata": {
  "kernelspec": {
   "display_name": "Python 3 (ipykernel)",
   "language": "python",
   "name": "python3"
  },
  "language_info": {
   "codemirror_mode": {
    "name": "ipython",
    "version": 3
   },
   "file_extension": ".py",
   "mimetype": "text/x-python",
   "name": "python",
   "nbconvert_exporter": "python",
   "pygments_lexer": "ipython3",
   "version": "3.12.7"
  }
 },
 "nbformat": 4,
 "nbformat_minor": 5
}
